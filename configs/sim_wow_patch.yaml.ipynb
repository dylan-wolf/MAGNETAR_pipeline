{
 "cells": [
  {
   "cell_type": "code",
   "execution_count": null,
   "id": "initial_id",
   "metadata": {
    "collapsed": true
   },
   "outputs": [],
   "source": [
    "center_ra_deg: 291.736    # Wow! midpoint ~ 19h27m\n",
    "center_dec_deg: -26.95\n",
    "fov_deg: 2.0\n",
    "n_side_pix: 256            # 256x256 TAN grid for the small patch\n",
    "\n",
    "# Scan + instrument\n",
    "sample_rate_hz: 40.0\n",
    "scan_minutes: 12\n",
    "num_detectors: 2\n",
    "hwp_spin_hz: 2.0           # half-wave plate modulation\n",
    "pol_eff: 0.9               # polarization efficiency ρ\n",
    "white_noise_ks: 300.0      # NET ~ 300 µK√s equivalent (arbitrary units)\n",
    "one_over_f_knee_hz: 0.2\n",
    "one_over_f_alpha: 1.0\n",
    "\n",
    "# Sky model (toy)\n",
    "background_I_mjy_sr: 1.0\n",
    "gauss_sources:\n",
    "  - {amp: 0.4, fwhm_arcmin: 12, d_ra_arcmin: 10, d_dec_arcmin: -8, psi_deg: 30, p_frac: 0.06}\n",
    "  - {amp: 0.3, fwhm_arcmin: 8, d_ra_arcmin: -20, d_dec_arcmin: 15, psi_deg: 110, p_frac: 0.03}\n",
    "\n",
    "# Outputs\n",
    "l0_file: data/sim_l0_packets.bin\n",
    "l1_file: data/sim_l1_timestreams.npz\n",
    "map_out: data/sim_IQU_maps.fits\n",
    "qc_html: data/qc_report.html\n"
   ]
  }
 ],
 "metadata": {
  "kernelspec": {
   "display_name": "Python 3",
   "language": "python",
   "name": "python3"
  },
  "language_info": {
   "codemirror_mode": {
    "name": "ipython",
    "version": 2
   },
   "file_extension": ".py",
   "mimetype": "text/x-python",
   "name": "python",
   "nbconvert_exporter": "python",
   "pygments_lexer": "ipython2",
   "version": "2.7.6"
  }
 },
 "nbformat": 4,
 "nbformat_minor": 5
}
